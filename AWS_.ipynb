{
  "nbformat": 4,
  "nbformat_minor": 0,
  "metadata": {
    "colab": {
      "provenance": []
    },
    "kernelspec": {
      "name": "python3",
      "display_name": "Python 3"
    },
    "language_info": {
      "name": "python"
    }
  },
  "cells": [
    {
      "cell_type": "code",
      "source": [
        "pip install boto3"
      ],
      "metadata": {
        "id": "A7iFuanDR6g7"
      },
      "execution_count": null,
      "outputs": []
    },
    {
      "cell_type": "code",
      "execution_count": null,
      "metadata": {
        "id": "c7PH44WdRvyl"
      },
      "outputs": [],
      "source": [
        "import boto3\n",
        "from botocore.exceptions import NoCredentialsError\n",
        "import os\n",
        "\n",
        "\n",
        "def aws_config(id , key):\n",
        "  os.environ[\"AWS_ACCESS_KEY_ID\"] = id\n",
        "  os.environ[\"AWS_SECRET_ACCESS_KEY\"] = key\n",
        "\n",
        "def check_open_security_groups(ec2_client):\n",
        "    try:\n",
        "        response = ec2_client.describe_security_groups()\n",
        "        return [group['GroupId'] for group in response['SecurityGroups'] if any(rule['CidrIp'] == '0.0.0.0/0' for rule in rule['IpRanges']) for rule in group['IpPermissions']]\n",
        "    except ec2_client.exceptions.ClientError as e:\n",
        "        print(f\"Error: {e}\")\n",
        "        return []\n",
        "\n",
        "def check_cloudtrail_enabled(cloudtrail_client):\n",
        "    try:\n",
        "        response = cloudtrail_client.describe_trails()\n",
        "        return len(response['trailList']) > 0\n",
        "    except cloudtrail_client.exceptions.ClientError as e:\n",
        "        print(f\"Error: {e}\")\n",
        "        return False\n",
        "\n",
        "def check_s3_bucket_public_access(s3_client):\n",
        "    try:\n",
        "        response = s3_client.list_buckets()\n",
        "        buckets = response['Buckets']\n",
        "        return [bucket['Name'] for bucket in buckets if s3_client.get_bucket_acl(Bucket=bucket['Name'])['Grants']]\n",
        "    except s3_client.exceptions.ClientError as e:\n",
        "        print(f\"Error: {e}\")\n",
        "        return []\n",
        "\n",
        "def check_aws_config_enabled(config_client):\n",
        "    try:\n",
        "        response = config_client.describe_configuration_recorders()\n",
        "        return len(response['ConfigurationRecorders']) > 0\n",
        "    except config_client.exceptions.ClientError as e:\n",
        "        print(f\"Error: {e}\")\n",
        "        return False\n",
        "\n",
        "def main():\n",
        "    # Specify your AWS region\n",
        "    region = 'us-west-2'\n",
        "    print(\"Enter access id: \")\n",
        "    ACCESS_ID=input()\n",
        "    print(\"Enter access key: \")\n",
        "    ACCESS_KEY=input()\n",
        "\n",
        "    # Create AWS clients\n",
        "    iam_client = boto3.client('iam', region_name=region)\n",
        "    ec2_client = boto3.client('ec2', region_name=region)\n",
        "    cloudtrail_client = boto3.client('cloudtrail', region_name=region)\n",
        "    s3_client = boto3.client('s3', region_name=region)\n",
        "    config_client = boto3.client('config', region_name=region)\n",
        "\n",
        "    # Check security best practices\n",
        "    aws_config(ACCESS_ID , ACCESS_KEY)\n",
        "    open_security_groups = check_open_security_groups(ec2_client)\n",
        "    cloudtrail_enabled = check_cloudtrail_enabled(cloudtrail_client)\n",
        "    public_s3_buckets = check_s3_bucket_public_access(s3_client)\n",
        "    aws_config_enabled = check_aws_config_enabled(config_client)\n",
        "\n",
        "    # Display results\n",
        "    print(f\"Open security groups: {open_security_groups}\")\n",
        "    print(f\"AWS CloudTrail enabled: {cloudtrail_enabled}\")\n",
        "    print(f\"S3 buckets with public access: {public_s3_buckets}\")\n",
        "    print(f\"AWS Config enabled: {aws_config_enabled}\")\n",
        "\n",
        "if __name__ == \"__main__\":\n",
        "    main()\n"
      ]
    },
    {
      "cell_type": "code",
      "source": [],
      "metadata": {
        "id": "msBDr0_zR2Y6"
      },
      "execution_count": null,
      "outputs": []
    }
  ]
}